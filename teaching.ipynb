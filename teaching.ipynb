{
 "cells": [
  {
   "cell_type": "code",
   "execution_count": 42,
   "id": "4f0965b3",
   "metadata": {},
   "outputs": [],
   "source": [
    "import torch \n",
    "from torch import nn\n",
    "from torchsummary import summary\n",
    "\n",
    "import torchvision as tv\n",
    "from torchvision import datasets, transforms\n",
    "from torchvision.transforms.functional import InterpolationMode\n",
    "\n",
    "\n",
    "import matplotlib.pyplot as plt\n",
    "import pandas as pd\n",
    "\n",
    "import os\n",
    "import time\n",
    "import datetime\n",
    "from tqdm.notebook import trange, tqdm\n",
    "from PIL import Image\n",
    "\n",
    "from sklearn.metrics import classification_report, confusion_matrix"
   ]
  },
  {
   "cell_type": "code",
   "execution_count": 2,
   "id": "bd2ef24d",
   "metadata": {},
   "outputs": [
    {
     "data": {
      "text/plain": [
       "('0.14.1', '1.13.1')"
      ]
     },
     "execution_count": 2,
     "metadata": {},
     "output_type": "execute_result"
    }
   ],
   "source": [
    "tv.__version__, torch.__version__"
   ]
  },
  {
   "cell_type": "code",
   "execution_count": 3,
   "id": "187311a6",
   "metadata": {},
   "outputs": [
    {
     "data": {
      "text/plain": [
       "device(type='cuda', index=0)"
      ]
     },
     "execution_count": 3,
     "metadata": {},
     "output_type": "execute_result"
    }
   ],
   "source": [
    "# NVIDIA GEFORCE RTX 2060\n",
    "use_cuda = torch.cuda.is_available()\n",
    "device = torch.device('cuda:0' if use_cuda else 'cpu')\n",
    "device"
   ]
  },
  {
   "cell_type": "code",
   "execution_count": null,
   "id": "9ad4772c",
   "metadata": {},
   "outputs": [],
   "source": []
  },
  {
   "cell_type": "code",
   "execution_count": 4,
   "id": "3ccc5f42",
   "metadata": {},
   "outputs": [],
   "source": [
    "df = pd.read_csv('./train.csv')\n",
    "df['image'] = df.image_name.apply(lambda x: f'{x}.jpg')"
   ]
  },
  {
   "cell_type": "code",
   "execution_count": 5,
   "id": "0afcc70f",
   "metadata": {},
   "outputs": [],
   "source": [
    "from sklearn.model_selection import train_test_split\n",
    "\n",
    "x_train, x_test, y_train, y_test = train_test_split(df.image, df.target, train_size=0.75, \\\n",
    "                                                      random_state = 8, shuffle = True, stratify= df.target)"
   ]
  },
  {
   "cell_type": "markdown",
   "id": "613ae375",
   "metadata": {},
   "source": [
    "# VGG 19\n",
    "\n",
    "The inference transforms are available at VGG19_BN_Weights.IMAGENET1K_V1.transforms and perform the following preprocessing operations: Accepts PIL.Image, batched (B, C, H, W) and single (C, H, W) image torch.Tensor objects. The images are resized to resize_size=[256] using interpolation=InterpolationMode.BILINEAR, followed by a central crop of crop_size=[224]. Finally the values are first rescaled to [0.0, 1.0] and then normalized using mean=[0.485, 0.456, 0.406] and std=[0.229, 0.224, 0.225]."
   ]
  },
  {
   "cell_type": "code",
   "execution_count": 6,
   "id": "6e5b5243",
   "metadata": {},
   "outputs": [],
   "source": [
    "tt_transform = transforms.Compose([#transforms.Resize((256, 256), interpolation=InterpolationMode.BILINEAR), \n",
    "                                       transforms.CenterCrop((224, 224)),  \n",
    "                                       #transforms.RandomHorizontalFlip(),\n",
    "                                       transforms.ToTensor(), \n",
    "                                       transforms.Normalize([0.485, 0.456, 0.406], [0.229, 0.224, 0.225])]) \n",
    "\n",
    "\n",
    "image_train = datasets.ImageFolder('C:\\\\Users\\\\Blacat\\\\DL\\\\Melanoma\\\\imgs\\\\small\\\\train',transform = tt_transform)"
   ]
  },
  {
   "cell_type": "code",
   "execution_count": 7,
   "id": "4ceaba8a",
   "metadata": {},
   "outputs": [
    {
     "data": {
      "text/plain": [
       "Dataset ImageFolder\n",
       "    Number of datapoints: 24844\n",
       "    Root location: C:\\Users\\Blacat\\DL\\Melanoma\\imgs\\small\\train\n",
       "    StandardTransform\n",
       "Transform: Compose(\n",
       "               CenterCrop(size=(224, 224))\n",
       "               ToTensor()\n",
       "               Normalize(mean=[0.485, 0.456, 0.406], std=[0.229, 0.224, 0.225])\n",
       "           )"
      ]
     },
     "execution_count": 7,
     "metadata": {},
     "output_type": "execute_result"
    }
   ],
   "source": [
    "image_train"
   ]
  },
  {
   "cell_type": "code",
   "execution_count": 8,
   "id": "101f9bff",
   "metadata": {},
   "outputs": [
    {
     "data": {
      "text/plain": [
       "{'benign': 0, 'malignant': 1}"
      ]
     },
     "execution_count": 8,
     "metadata": {},
     "output_type": "execute_result"
    }
   ],
   "source": [
    "image_train.class_to_idx"
   ]
  },
  {
   "cell_type": "code",
   "execution_count": null,
   "id": "d1199725",
   "metadata": {},
   "outputs": [],
   "source": []
  },
  {
   "cell_type": "code",
   "execution_count": 9,
   "id": "a6247bdf",
   "metadata": {},
   "outputs": [],
   "source": [
    "image_test = datasets.ImageFolder('C:\\\\Users\\\\Blacat\\\\DL\\\\Melanoma\\\\imgs\\\\small\\\\test', transform = tt_transform )"
   ]
  },
  {
   "cell_type": "code",
   "execution_count": 10,
   "id": "f4dbcfdf",
   "metadata": {},
   "outputs": [
    {
     "data": {
      "text/plain": [
       "Dataset ImageFolder\n",
       "    Number of datapoints: 8282\n",
       "    Root location: C:\\Users\\Blacat\\DL\\Melanoma\\imgs\\small\\test\n",
       "    StandardTransform\n",
       "Transform: Compose(\n",
       "               CenterCrop(size=(224, 224))\n",
       "               ToTensor()\n",
       "               Normalize(mean=[0.485, 0.456, 0.406], std=[0.229, 0.224, 0.225])\n",
       "           )"
      ]
     },
     "execution_count": 10,
     "metadata": {},
     "output_type": "execute_result"
    }
   ],
   "source": [
    "image_test"
   ]
  },
  {
   "cell_type": "code",
   "execution_count": 11,
   "id": "2354b447",
   "metadata": {},
   "outputs": [
    {
     "data": {
      "text/plain": [
       "{'benign': 0, 'malignant': 1}"
      ]
     },
     "execution_count": 11,
     "metadata": {},
     "output_type": "execute_result"
    }
   ],
   "source": [
    "image_test.class_to_idx"
   ]
  },
  {
   "cell_type": "code",
   "execution_count": null,
   "id": "820af365",
   "metadata": {},
   "outputs": [],
   "source": []
  },
  {
   "cell_type": "code",
   "execution_count": 12,
   "id": "252003bf",
   "metadata": {},
   "outputs": [],
   "source": [
    "BATCH_SIZE = 16\n",
    "data_train = torch.utils.data.DataLoader(image_train, batch_size=BATCH_SIZE)\n",
    "data_test = torch.utils.data.DataLoader(image_test, batch_size=BATCH_SIZE)"
   ]
  },
  {
   "cell_type": "code",
   "execution_count": null,
   "id": "badc78c0",
   "metadata": {},
   "outputs": [],
   "source": []
  },
  {
   "cell_type": "code",
   "execution_count": 13,
   "id": "1526bcc3",
   "metadata": {},
   "outputs": [],
   "source": [
    "# Качество на test\n",
    "def evaluate_accuracy(data_iter, model):\n",
    "    \n",
    "    acc_sum, loss_l_sum, n = 0.0, 0.0, 0\n",
    "    loss = nn.CrossEntropyLoss(reduction = 'sum')\n",
    "    \n",
    "    model.eval()\n",
    "    for X, y in tqdm(data_iter):\n",
    "        \n",
    "        y_prob = model(X.to(device))\n",
    "        l = loss(y_prob.to(device), y.to(device))\n",
    "        loss_l_sum += l.item()\n",
    "        acc_sum += (model(X.to(device)).argmax(axis=1) == y.to(device)).sum().item()\n",
    "        n += y.to(device).shape[0]\n",
    "        \n",
    "    return acc_sum / n, loss_l_sum / n"
   ]
  },
  {
   "cell_type": "code",
   "execution_count": null,
   "id": "743d92b5",
   "metadata": {},
   "outputs": [],
   "source": []
  },
  {
   "cell_type": "code",
   "execution_count": 14,
   "id": "e9731dc7",
   "metadata": {},
   "outputs": [],
   "source": [
    "def train_eval(model, train_iter, test_iter, trainer, num_epochs):\n",
    "    \n",
    "    start_time = time.time()\n",
    "    loss = nn.CrossEntropyLoss(reduction = 'sum')\n",
    "    loss_train, loss_test = [], []\n",
    "    \n",
    "    for epoch in tqdm(range(num_epochs)):\n",
    "        \n",
    "        train_l_sum, train_acc_sum, test_acc, n = 0.0, 0.0, 0.0, 0\n",
    "        \n",
    "        model.train()\n",
    "        for X, y in tqdm(train_iter):\n",
    "            trainer.zero_grad()\n",
    "            y_prob = model(X.to(device))\n",
    "            l = loss(y_prob.to(device), y.to(device))\n",
    "            #print(y_prob, y.to(device))\n",
    "            l.backward()\n",
    "            trainer.step()\n",
    "            \n",
    "            train_l_sum += l.item()\n",
    "            train_acc_sum += (y_prob.to(device).argmax(axis=1) == y.to(device)).sum().item()\n",
    "            n += y.to(device).shape[0]\n",
    "            \n",
    "          \n",
    "        test_acc, loss_test_ev = evaluate_accuracy(test_iter, model)\n",
    "        \n",
    "        loss_train.append(train_l_sum/n)\n",
    "        loss_test.append(loss_test_ev)\n",
    "        \n",
    "        print('epoch {:d}, train loss {:.5f}, train acc {:.5f}, test loss {:.5f}, test acc {:.5f}'\\\n",
    "              .format(epoch + 1, train_l_sum / n, train_acc_sum / n, loss_test_ev, test_acc ))\n",
    "        \n",
    "    plt.plot(range(0,len(loss_train)), loss_train, label = 'loss due train')\n",
    "    plt.plot(range(0,len(loss_test)), loss_test, label = 'loss due test')\n",
    "    plt.xlabel('Epoch')\n",
    "    plt.ylabel('Loss')\n",
    "    plt.legend()\n",
    "    \n",
    "    print('Elapsed time: {:.3f} min'.format((time.time()-start_time)/60))"
   ]
  },
  {
   "cell_type": "code",
   "execution_count": 15,
   "id": "f8f5b329",
   "metadata": {},
   "outputs": [],
   "source": [
    "import torchvision.models as models\n",
    "from torchvision.models import vgg19#ResNet50_Weights"
   ]
  },
  {
   "cell_type": "code",
   "execution_count": 16,
   "id": "dbae6981",
   "metadata": {},
   "outputs": [],
   "source": [
    "weights = models.VGG19_Weights.DEFAULT # .DEFAULT = best available weights \n",
    "model = vgg19(weights=weights).to(device)"
   ]
  },
  {
   "cell_type": "code",
   "execution_count": 17,
   "id": "42963b31",
   "metadata": {},
   "outputs": [
    {
     "data": {
      "text/plain": [
       "<bound method Module.parameters of VGG(\n",
       "  (features): Sequential(\n",
       "    (0): Conv2d(3, 64, kernel_size=(3, 3), stride=(1, 1), padding=(1, 1))\n",
       "    (1): ReLU(inplace=True)\n",
       "    (2): Conv2d(64, 64, kernel_size=(3, 3), stride=(1, 1), padding=(1, 1))\n",
       "    (3): ReLU(inplace=True)\n",
       "    (4): MaxPool2d(kernel_size=2, stride=2, padding=0, dilation=1, ceil_mode=False)\n",
       "    (5): Conv2d(64, 128, kernel_size=(3, 3), stride=(1, 1), padding=(1, 1))\n",
       "    (6): ReLU(inplace=True)\n",
       "    (7): Conv2d(128, 128, kernel_size=(3, 3), stride=(1, 1), padding=(1, 1))\n",
       "    (8): ReLU(inplace=True)\n",
       "    (9): MaxPool2d(kernel_size=2, stride=2, padding=0, dilation=1, ceil_mode=False)\n",
       "    (10): Conv2d(128, 256, kernel_size=(3, 3), stride=(1, 1), padding=(1, 1))\n",
       "    (11): ReLU(inplace=True)\n",
       "    (12): Conv2d(256, 256, kernel_size=(3, 3), stride=(1, 1), padding=(1, 1))\n",
       "    (13): ReLU(inplace=True)\n",
       "    (14): Conv2d(256, 256, kernel_size=(3, 3), stride=(1, 1), padding=(1, 1))\n",
       "    (15): ReLU(inplace=True)\n",
       "    (16): Conv2d(256, 256, kernel_size=(3, 3), stride=(1, 1), padding=(1, 1))\n",
       "    (17): ReLU(inplace=True)\n",
       "    (18): MaxPool2d(kernel_size=2, stride=2, padding=0, dilation=1, ceil_mode=False)\n",
       "    (19): Conv2d(256, 512, kernel_size=(3, 3), stride=(1, 1), padding=(1, 1))\n",
       "    (20): ReLU(inplace=True)\n",
       "    (21): Conv2d(512, 512, kernel_size=(3, 3), stride=(1, 1), padding=(1, 1))\n",
       "    (22): ReLU(inplace=True)\n",
       "    (23): Conv2d(512, 512, kernel_size=(3, 3), stride=(1, 1), padding=(1, 1))\n",
       "    (24): ReLU(inplace=True)\n",
       "    (25): Conv2d(512, 512, kernel_size=(3, 3), stride=(1, 1), padding=(1, 1))\n",
       "    (26): ReLU(inplace=True)\n",
       "    (27): MaxPool2d(kernel_size=2, stride=2, padding=0, dilation=1, ceil_mode=False)\n",
       "    (28): Conv2d(512, 512, kernel_size=(3, 3), stride=(1, 1), padding=(1, 1))\n",
       "    (29): ReLU(inplace=True)\n",
       "    (30): Conv2d(512, 512, kernel_size=(3, 3), stride=(1, 1), padding=(1, 1))\n",
       "    (31): ReLU(inplace=True)\n",
       "    (32): Conv2d(512, 512, kernel_size=(3, 3), stride=(1, 1), padding=(1, 1))\n",
       "    (33): ReLU(inplace=True)\n",
       "    (34): Conv2d(512, 512, kernel_size=(3, 3), stride=(1, 1), padding=(1, 1))\n",
       "    (35): ReLU(inplace=True)\n",
       "    (36): MaxPool2d(kernel_size=2, stride=2, padding=0, dilation=1, ceil_mode=False)\n",
       "  )\n",
       "  (avgpool): AdaptiveAvgPool2d(output_size=(7, 7))\n",
       "  (classifier): Sequential(\n",
       "    (0): Linear(in_features=25088, out_features=4096, bias=True)\n",
       "    (1): ReLU(inplace=True)\n",
       "    (2): Dropout(p=0.5, inplace=False)\n",
       "    (3): Linear(in_features=4096, out_features=4096, bias=True)\n",
       "    (4): ReLU(inplace=True)\n",
       "    (5): Dropout(p=0.5, inplace=False)\n",
       "    (6): Linear(in_features=4096, out_features=1000, bias=True)\n",
       "  )\n",
       ")>"
      ]
     },
     "execution_count": 17,
     "metadata": {},
     "output_type": "execute_result"
    }
   ],
   "source": [
    "model.parameters"
   ]
  },
  {
   "cell_type": "code",
   "execution_count": 18,
   "id": "47fd848b",
   "metadata": {},
   "outputs": [
    {
     "name": "stdout",
     "output_type": "stream",
     "text": [
      "----------------------------------------------------------------\n",
      "        Layer (type)               Output Shape         Param #\n",
      "================================================================\n",
      "            Conv2d-1         [16, 64, 224, 224]           1,792\n",
      "              ReLU-2         [16, 64, 224, 224]               0\n",
      "            Conv2d-3         [16, 64, 224, 224]          36,928\n",
      "              ReLU-4         [16, 64, 224, 224]               0\n",
      "         MaxPool2d-5         [16, 64, 112, 112]               0\n",
      "            Conv2d-6        [16, 128, 112, 112]          73,856\n",
      "              ReLU-7        [16, 128, 112, 112]               0\n",
      "            Conv2d-8        [16, 128, 112, 112]         147,584\n",
      "              ReLU-9        [16, 128, 112, 112]               0\n",
      "        MaxPool2d-10          [16, 128, 56, 56]               0\n",
      "           Conv2d-11          [16, 256, 56, 56]         295,168\n",
      "             ReLU-12          [16, 256, 56, 56]               0\n",
      "           Conv2d-13          [16, 256, 56, 56]         590,080\n",
      "             ReLU-14          [16, 256, 56, 56]               0\n",
      "           Conv2d-15          [16, 256, 56, 56]         590,080\n",
      "             ReLU-16          [16, 256, 56, 56]               0\n",
      "           Conv2d-17          [16, 256, 56, 56]         590,080\n",
      "             ReLU-18          [16, 256, 56, 56]               0\n",
      "        MaxPool2d-19          [16, 256, 28, 28]               0\n",
      "           Conv2d-20          [16, 512, 28, 28]       1,180,160\n",
      "             ReLU-21          [16, 512, 28, 28]               0\n",
      "           Conv2d-22          [16, 512, 28, 28]       2,359,808\n",
      "             ReLU-23          [16, 512, 28, 28]               0\n",
      "           Conv2d-24          [16, 512, 28, 28]       2,359,808\n",
      "             ReLU-25          [16, 512, 28, 28]               0\n",
      "           Conv2d-26          [16, 512, 28, 28]       2,359,808\n",
      "             ReLU-27          [16, 512, 28, 28]               0\n",
      "        MaxPool2d-28          [16, 512, 14, 14]               0\n",
      "           Conv2d-29          [16, 512, 14, 14]       2,359,808\n",
      "             ReLU-30          [16, 512, 14, 14]               0\n",
      "           Conv2d-31          [16, 512, 14, 14]       2,359,808\n",
      "             ReLU-32          [16, 512, 14, 14]               0\n",
      "           Conv2d-33          [16, 512, 14, 14]       2,359,808\n",
      "             ReLU-34          [16, 512, 14, 14]               0\n",
      "           Conv2d-35          [16, 512, 14, 14]       2,359,808\n",
      "             ReLU-36          [16, 512, 14, 14]               0\n",
      "        MaxPool2d-37            [16, 512, 7, 7]               0\n",
      "AdaptiveAvgPool2d-38            [16, 512, 7, 7]               0\n",
      "           Linear-39                 [16, 4096]     102,764,544\n",
      "             ReLU-40                 [16, 4096]               0\n",
      "          Dropout-41                 [16, 4096]               0\n",
      "           Linear-42                 [16, 4096]      16,781,312\n",
      "             ReLU-43                 [16, 4096]               0\n",
      "          Dropout-44                 [16, 4096]               0\n",
      "           Linear-45                 [16, 1000]       4,097,000\n",
      "================================================================\n",
      "Total params: 143,667,240\n",
      "Trainable params: 143,667,240\n",
      "Non-trainable params: 0\n",
      "----------------------------------------------------------------\n",
      "Input size (MB): 9.19\n",
      "Forward/backward pass size (MB): 3819.00\n",
      "Params size (MB): 548.05\n",
      "Estimated Total Size (MB): 4376.23\n",
      "----------------------------------------------------------------\n"
     ]
    }
   ],
   "source": [
    "summary(model=model, input_size = (3, 224, 224), \n",
    "        #col_names=[\"input_size\", \"output_size\", \"num_params\", \"trainable\"],\n",
    "        #col_width=20,\n",
    "        batch_size = BATCH_SIZE, device = device.type)"
   ]
  },
  {
   "cell_type": "code",
   "execution_count": 19,
   "id": "913f4628",
   "metadata": {},
   "outputs": [],
   "source": [
    "# Freeze all base layers in the \"features\" section of the model (the feature extractor) by setting requires_grad=False\n",
    "for param in model.features.parameters():\n",
    "    param.requires_grad = False"
   ]
  },
  {
   "cell_type": "code",
   "execution_count": 20,
   "id": "945e31a9",
   "metadata": {},
   "outputs": [
    {
     "name": "stdout",
     "output_type": "stream",
     "text": [
      "features.0.weight False\n",
      "features.0.bias False\n",
      "features.2.weight False\n",
      "features.2.bias False\n",
      "features.5.weight False\n",
      "features.5.bias False\n",
      "features.7.weight False\n",
      "features.7.bias False\n",
      "features.10.weight False\n",
      "features.10.bias False\n",
      "features.12.weight False\n",
      "features.12.bias False\n",
      "features.14.weight False\n",
      "features.14.bias False\n",
      "features.16.weight False\n",
      "features.16.bias False\n",
      "features.19.weight False\n",
      "features.19.bias False\n",
      "features.21.weight False\n",
      "features.21.bias False\n",
      "features.23.weight False\n",
      "features.23.bias False\n",
      "features.25.weight False\n",
      "features.25.bias False\n",
      "features.28.weight False\n",
      "features.28.bias False\n",
      "features.30.weight False\n",
      "features.30.bias False\n",
      "features.32.weight False\n",
      "features.32.bias False\n",
      "features.34.weight False\n",
      "features.34.bias False\n",
      "classifier.0.weight True\n",
      "classifier.0.bias True\n",
      "classifier.3.weight True\n",
      "classifier.3.bias True\n",
      "classifier.6.weight True\n",
      "classifier.6.bias True\n"
     ]
    }
   ],
   "source": [
    "for name, param in model.named_parameters():\n",
    "    print(name, param.requires_grad)"
   ]
  },
  {
   "cell_type": "code",
   "execution_count": 21,
   "id": "74b2d3fd",
   "metadata": {},
   "outputs": [],
   "source": [
    "model.classifier = torch.nn.Sequential(\n",
    "    torch.nn.Dropout(p=0.6, inplace=True), \n",
    "    torch.nn.Linear(in_features=25088, out_features=1024, bias=True),\n",
    "    torch.nn.ReLU(inplace = False),\n",
    "    torch.nn.Dropout(p=0.4, inplace=False),\n",
    "    torch.nn.Linear(1024, out_features=2, bias=True), \n",
    "    torch.nn.ReLU(inplace = False)).to(device)\n",
    "                    "
   ]
  },
  {
   "cell_type": "code",
   "execution_count": 22,
   "id": "7adac15f",
   "metadata": {},
   "outputs": [
    {
     "name": "stdout",
     "output_type": "stream",
     "text": [
      "features.0.weight False\n",
      "features.0.bias False\n",
      "features.2.weight False\n",
      "features.2.bias False\n",
      "features.5.weight False\n",
      "features.5.bias False\n",
      "features.7.weight False\n",
      "features.7.bias False\n",
      "features.10.weight False\n",
      "features.10.bias False\n",
      "features.12.weight False\n",
      "features.12.bias False\n",
      "features.14.weight False\n",
      "features.14.bias False\n",
      "features.16.weight False\n",
      "features.16.bias False\n",
      "features.19.weight False\n",
      "features.19.bias False\n",
      "features.21.weight False\n",
      "features.21.bias False\n",
      "features.23.weight False\n",
      "features.23.bias False\n",
      "features.25.weight False\n",
      "features.25.bias False\n",
      "features.28.weight False\n",
      "features.28.bias False\n",
      "features.30.weight False\n",
      "features.30.bias False\n",
      "features.32.weight False\n",
      "features.32.bias False\n",
      "features.34.weight False\n",
      "features.34.bias False\n",
      "classifier.1.weight True\n",
      "classifier.1.bias True\n",
      "classifier.4.weight True\n",
      "classifier.4.bias True\n"
     ]
    }
   ],
   "source": [
    "for name, param in model.named_parameters():\n",
    "    print(name, param.requires_grad)"
   ]
  },
  {
   "cell_type": "code",
   "execution_count": 23,
   "id": "9083588f",
   "metadata": {},
   "outputs": [
    {
     "name": "stdout",
     "output_type": "stream",
     "text": [
      "----------------------------------------------------------------\n",
      "        Layer (type)               Output Shape         Param #\n",
      "================================================================\n",
      "            Conv2d-1         [16, 64, 224, 224]           1,792\n",
      "              ReLU-2         [16, 64, 224, 224]               0\n",
      "            Conv2d-3         [16, 64, 224, 224]          36,928\n",
      "              ReLU-4         [16, 64, 224, 224]               0\n",
      "         MaxPool2d-5         [16, 64, 112, 112]               0\n",
      "            Conv2d-6        [16, 128, 112, 112]          73,856\n",
      "              ReLU-7        [16, 128, 112, 112]               0\n",
      "            Conv2d-8        [16, 128, 112, 112]         147,584\n",
      "              ReLU-9        [16, 128, 112, 112]               0\n",
      "        MaxPool2d-10          [16, 128, 56, 56]               0\n",
      "           Conv2d-11          [16, 256, 56, 56]         295,168\n",
      "             ReLU-12          [16, 256, 56, 56]               0\n",
      "           Conv2d-13          [16, 256, 56, 56]         590,080\n",
      "             ReLU-14          [16, 256, 56, 56]               0\n",
      "           Conv2d-15          [16, 256, 56, 56]         590,080\n",
      "             ReLU-16          [16, 256, 56, 56]               0\n",
      "           Conv2d-17          [16, 256, 56, 56]         590,080\n",
      "             ReLU-18          [16, 256, 56, 56]               0\n",
      "        MaxPool2d-19          [16, 256, 28, 28]               0\n",
      "           Conv2d-20          [16, 512, 28, 28]       1,180,160\n",
      "             ReLU-21          [16, 512, 28, 28]               0\n",
      "           Conv2d-22          [16, 512, 28, 28]       2,359,808\n",
      "             ReLU-23          [16, 512, 28, 28]               0\n",
      "           Conv2d-24          [16, 512, 28, 28]       2,359,808\n",
      "             ReLU-25          [16, 512, 28, 28]               0\n",
      "           Conv2d-26          [16, 512, 28, 28]       2,359,808\n",
      "             ReLU-27          [16, 512, 28, 28]               0\n",
      "        MaxPool2d-28          [16, 512, 14, 14]               0\n",
      "           Conv2d-29          [16, 512, 14, 14]       2,359,808\n",
      "             ReLU-30          [16, 512, 14, 14]               0\n",
      "           Conv2d-31          [16, 512, 14, 14]       2,359,808\n",
      "             ReLU-32          [16, 512, 14, 14]               0\n",
      "           Conv2d-33          [16, 512, 14, 14]       2,359,808\n",
      "             ReLU-34          [16, 512, 14, 14]               0\n",
      "           Conv2d-35          [16, 512, 14, 14]       2,359,808\n",
      "             ReLU-36          [16, 512, 14, 14]               0\n",
      "        MaxPool2d-37            [16, 512, 7, 7]               0\n",
      "AdaptiveAvgPool2d-38            [16, 512, 7, 7]               0\n",
      "          Dropout-39                [16, 25088]               0\n",
      "           Linear-40                 [16, 1024]      25,691,136\n",
      "             ReLU-41                 [16, 1024]               0\n",
      "          Dropout-42                 [16, 1024]               0\n",
      "           Linear-43                    [16, 2]           2,050\n",
      "             ReLU-44                    [16, 2]               0\n",
      "================================================================\n",
      "Total params: 45,717,570\n",
      "Trainable params: 25,693,186\n",
      "Non-trainable params: 20,024,384\n",
      "----------------------------------------------------------------\n",
      "Input size (MB): 9.19\n",
      "Forward/backward pass size (MB): 3819.31\n",
      "Params size (MB): 174.40\n",
      "Estimated Total Size (MB): 4002.90\n",
      "----------------------------------------------------------------\n"
     ]
    }
   ],
   "source": [
    "summary(model=model, input_size = (3, 224, 224), \n",
    "        #col_names=[\"input_size\", \"output_size\", \"num_params\", \"trainable\"],\n",
    "        #col_width=20,\n",
    "        batch_size = BATCH_SIZE, device = device.type)"
   ]
  },
  {
   "cell_type": "code",
   "execution_count": null,
   "id": "6f57d905",
   "metadata": {},
   "outputs": [],
   "source": []
  },
  {
   "cell_type": "code",
   "execution_count": 26,
   "id": "7886715b",
   "metadata": {},
   "outputs": [
    {
     "data": {
      "application/vnd.jupyter.widget-view+json": {
       "model_id": "f81e85af5eb84dceb67d71678b7b8684",
       "version_major": 2,
       "version_minor": 0
      },
      "text/plain": [
       "  0%|          | 0/1 [00:00<?, ?it/s]"
      ]
     },
     "metadata": {},
     "output_type": "display_data"
    },
    {
     "data": {
      "application/vnd.jupyter.widget-view+json": {
       "model_id": "b9e2e66b769048fdabda6d5edde87f57",
       "version_major": 2,
       "version_minor": 0
      },
      "text/plain": [
       "  0%|          | 0/1553 [00:00<?, ?it/s]"
      ]
     },
     "metadata": {},
     "output_type": "display_data"
    },
    {
     "data": {
      "application/vnd.jupyter.widget-view+json": {
       "model_id": "b1a82cfacfd9469ab3493deb98108a74",
       "version_major": 2,
       "version_minor": 0
      },
      "text/plain": [
       "  0%|          | 0/518 [00:00<?, ?it/s]"
      ]
     },
     "metadata": {},
     "output_type": "display_data"
    },
    {
     "name": "stdout",
     "output_type": "stream",
     "text": [
      "epoch 1, train loss 0.69315, train acc 0.98237, test loss 0.69315, test acc 0.98237\n",
      "Elapsed time: 4.980 min\n"
     ]
    },
    {
     "data": {
      "image/png": "[encoded data removed]",
      "text/plain": [
       "<Figure size 640x480 with 1 Axes>"
      ]
     },
     "metadata": {},
     "output_type": "display_data"
    }
   ],
   "source": [
    "trainer = torch.optim.Adam(model.parameters(), lr=0.001)\n",
    "train_eval(model, data_train, data_test, trainer, 1)"
   ]
  },
  {
   "cell_type": "code",
   "execution_count": 30,
   "id": "259f5452",
   "metadata": {},
   "outputs": [],
   "source": [
    "model.eval().to(device);\n"
   ]
  },
  {
   "cell_type": "code",
   "execution_count": 35,
   "id": "752b7ec6",
   "metadata": {},
   "outputs": [],
   "source": [
    "sm_kgpath = 'C:\\\\Users\\\\Blacat\\\\DL\\\\Melanoma\\\\imgs\\\\kg_small'\n",
    "\n",
    "kg_flist = os.listdir(f'{sm_kgpath}')"
   ]
  },
  {
   "cell_type": "code",
   "execution_count": 57,
   "id": "f62de460",
   "metadata": {},
   "outputs": [],
   "source": [
    "img_dir = 'C:\\\\Users\\\\Blacat\\\\DL\\\\Melanoma\\\\imgs\\\\kg_small\\\\ISIC_0052060.jpg'"
   ]
  },
  {
   "cell_type": "code",
   "execution_count": 121,
   "id": "58e5d871",
   "metadata": {},
   "outputs": [],
   "source": [
    "def get_model_predictions(model,img_path):\n",
    "    #was_training = model.training\n",
    "    model.eval()\n",
    "    img = Image.open(img_path)\n",
    "    img = tt_transform(img)\n",
    "    \n",
    "    img = img.unsqueeze(0)\n",
    "    img = img.to(device)\n",
    "\n",
    "    with torch.no_grad():\n",
    "        outputs = model(img)\n",
    "        #print(f'outputs: {outputs}')\n",
    "        torch.softmax(outputs, dim = 1)\n",
    "        _, preds = torch.max(outputs, 1)\n",
    "\n",
    "       # model.train(mode=was_training)\n",
    "        \n",
    "    return img_path[-16:], preds[0].item()"
   ]
  },
  {
   "cell_type": "code",
   "execution_count": 122,
   "id": "6acbb5ef",
   "metadata": {},
   "outputs": [
    {
     "data": {
      "application/vnd.jupyter.widget-view+json": {
       "model_id": "a55edb5e59d047f2882c270a7dfd2d9a",
       "version_major": 2,
       "version_minor": 0
      },
      "text/plain": [
       "  0%|          | 0/10982 [00:00<?, ?it/s]"
      ]
     },
     "metadata": {},
     "output_type": "display_data"
    }
   ],
   "source": [
    "img_name = []\n",
    "img_class = []\n",
    "for img in tqdm(kg_flist):\n",
    "    i, clss = get_model_predictions(model, f'{sm_kgpath}\\\\{img}')\n",
    "    img_name.append(i)\n",
    "    img_class.append(clss)\n",
    "    \n"
   ]
  },
  {
   "cell_type": "code",
   "execution_count": 123,
   "id": "29756fca",
   "metadata": {},
   "outputs": [
    {
     "data": {
      "text/plain": [
       "0"
      ]
     },
     "execution_count": 123,
     "metadata": {},
     "output_type": "execute_result"
    }
   ],
   "source": [
    "sum(img_class)"
   ]
  },
  {
   "cell_type": "code",
   "execution_count": 110,
   "id": "0b926f88",
   "metadata": {},
   "outputs": [
    {
     "name": "stdout",
     "output_type": "stream",
     "text": [
      "outputs: tensor([[0., 0.]], device='cuda:0')\n"
     ]
    },
    {
     "data": {
      "text/plain": [
       "('ISIC_0052060.jpg', tensor([0], device='cuda:0'))"
      ]
     },
     "execution_count": 110,
     "metadata": {},
     "output_type": "execute_result"
    }
   ],
   "source": [
    "get_model_predictions(model, img_dir)"
   ]
  },
  {
   "cell_type": "code",
   "execution_count": 102,
   "id": "ba19499f",
   "metadata": {},
   "outputs": [
    {
     "data": {
      "text/plain": [
       "tensor([[-0.4001,  1.3059, -1.0103],\n",
       "        [ 0.2068,  0.8241, -0.8012]])"
      ]
     },
     "execution_count": 102,
     "metadata": {},
     "output_type": "execute_result"
    }
   ],
   "source": [
    "m = nn.Softmax(dim=1)\n",
    "input = torch.randn(2, 3)\n",
    "input\n"
   ]
  },
  {
   "cell_type": "code",
   "execution_count": 104,
   "id": "1cd027db",
   "metadata": {},
   "outputs": [
    {
     "data": {
      "text/plain": [
       "tensor([[0.1418, 0.7811, 0.0771],\n",
       "        [0.3107, 0.5760, 0.1134]])"
      ]
     },
     "execution_count": 104,
     "metadata": {},
     "output_type": "execute_result"
    }
   ],
   "source": [
    "output = m(input)\n",
    "output"
   ]
  },
  {
   "cell_type": "code",
   "execution_count": 107,
   "id": "b7aa39e8",
   "metadata": {},
   "outputs": [
    {
     "data": {
      "text/plain": [
       "torch.return_types.max(\n",
       "values=tensor([0.7811, 0.5760]),\n",
       "indices=tensor([1, 1]))"
      ]
     },
     "execution_count": 107,
     "metadata": {},
     "output_type": "execute_result"
    }
   ],
   "source": [
    "torch.max(output,  1)"
   ]
  }
 ],
 "metadata": {
  "kernelspec": {
   "display_name": "Python 3 (ipykernel)",
   "language": "python",
   "name": "python3"
  },
  "language_info": {
   "codemirror_mode": {
    "name": "ipython",
    "version": 3
   },
   "file_extension": ".py",
   "mimetype": "text/x-python",
   "name": "python",
   "nbconvert_exporter": "python",
   "pygments_lexer": "ipython3",
   "version": "3.9.13"
  }
 },
 "nbformat": 4,
 "nbformat_minor": 5
}
